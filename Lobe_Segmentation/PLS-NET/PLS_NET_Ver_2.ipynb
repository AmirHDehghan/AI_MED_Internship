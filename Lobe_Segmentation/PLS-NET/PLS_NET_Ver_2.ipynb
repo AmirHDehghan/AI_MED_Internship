{
  "nbformat": 4,
  "nbformat_minor": 0,
  "metadata": {
    "colab": {
      "name": "PLS-NET-Ver_2.ipynb",
      "provenance": [],
      "authorship_tag": "ABX9TyNada5CNO1a0kGnkiomw4JD",
      "include_colab_link": true
    },
    "kernelspec": {
      "name": "python3",
      "display_name": "Python 3"
    },
    "accelerator": "GPU"
  },
  "cells": [
    {
      "cell_type": "markdown",
      "metadata": {
        "id": "view-in-github",
        "colab_type": "text"
      },
      "source": [
        "<a href=\"https://colab.research.google.com/github/AmirHDehghan/AI_MED_Internship/blob/main/Lobe_Segmentation/PLS-NET/PLS_NET_Ver_2.ipynb\" target=\"_parent\"><img src=\"https://colab.research.google.com/assets/colab-badge.svg\" alt=\"Open In Colab\"/></a>"
      ]
    },
    {
      "cell_type": "code",
      "metadata": {
        "id": "Rt2LGmI0ePmv"
      },
      "source": [
        "#  Importing!\n",
        "\n",
        "import torch\n",
        "import torch.nn as nn\n",
        "from torch.autograd import Variable\n",
        "\n",
        "from __future__ import print_function\n",
        "#%matplotlib inline\n",
        "import argparse\n",
        "import os\n",
        "import random\n",
        "import torch.nn.parallel\n",
        "import torch.backends.cudnn as cudnn\n",
        "import torch.optim as optim\n",
        "import torch.utils.data\n",
        "import torchvision.datasets as dset\n",
        "import torchvision.transforms as transforms\n",
        "import torchvision.utils as vutils\n",
        "import numpy as np\n",
        "import matplotlib.pyplot as plt\n",
        "import matplotlib.animation as animation\n",
        "from IPython.display import HTML\n",
        "from PIL import Image\n",
        "from torch.utils.data import Dataset, DataLoader\n",
        "import matplotlib.pylab as plt\n",
        "import nibabel as nib\n",
        "from skimage.transform import resize"
      ],
      "execution_count": 2,
      "outputs": []
    },
    {
      "cell_type": "code",
      "metadata": {
        "id": "Ofren4nceaOB",
        "outputId": "22f84da8-f8c8-4d58-e5d7-cb8585d6ebb8",
        "colab": {
          "base_uri": "https://localhost:8080/"
        }
      },
      "source": [
        "#Requird for reading mhd format\n",
        "!pip install SimpleITK\n",
        "import SimpleITK as sitk"
      ],
      "execution_count": 3,
      "outputs": [
        {
          "output_type": "stream",
          "text": [
            "Collecting SimpleITK\n",
            "\u001b[?25l  Downloading https://files.pythonhosted.org/packages/f3/cb/a15f4612af8e37f3627fc7fb2f91d07bb584968b0a47e3d5103d7014f93e/SimpleITK-2.0.1-cp36-cp36m-manylinux1_x86_64.whl (44.9MB)\n",
            "\u001b[K     |████████████████████████████████| 44.9MB 72kB/s \n",
            "\u001b[?25hInstalling collected packages: SimpleITK\n",
            "Successfully installed SimpleITK-2.0.1\n"
          ],
          "name": "stdout"
        }
      ]
    },
    {
      "cell_type": "code",
      "metadata": {
        "id": "0YVOxnbhedtA",
        "outputId": "554ed836-b7c3-4863-c133-190948b4aea7",
        "colab": {
          "base_uri": "https://localhost:8080/"
        }
      },
      "source": [
        "#Reading 3 samples from VESSEL12 dataset\n",
        "!wget https://www.dropbox.com/sh/1j2x17k8y18k3l6/AACkAc6bCEqYVXBdODFo6Iqya/VESSEL12_ExampleScans.tar.bz2"
      ],
      "execution_count": 5,
      "outputs": [
        {
          "output_type": "stream",
          "text": [
            "--2020-10-29 12:26:31--  https://www.dropbox.com/sh/1j2x17k8y18k3l6/AACkAc6bCEqYVXBdODFo6Iqya/VESSEL12_ExampleScans.tar.bz2\n",
            "Resolving www.dropbox.com (www.dropbox.com)... 162.125.65.1, 2620:100:6023:1::a27d:4301\n",
            "Connecting to www.dropbox.com (www.dropbox.com)|162.125.65.1|:443... connected.\n",
            "HTTP request sent, awaiting response... 301 Moved Permanently\n",
            "Location: /sh/raw/1j2x17k8y18k3l6/AACkAc6bCEqYVXBdODFo6Iqya/VESSEL12_ExampleScans.tar.bz2 [following]\n",
            "--2020-10-29 12:26:31--  https://www.dropbox.com/sh/raw/1j2x17k8y18k3l6/AACkAc6bCEqYVXBdODFo6Iqya/VESSEL12_ExampleScans.tar.bz2\n",
            "Reusing existing connection to www.dropbox.com:443.\n",
            "HTTP request sent, awaiting response... 302 Found\n",
            "Location: https://uc71ade91a0824599d9a4665c492.dl.dropboxusercontent.com/cd/0/inline/BCL3FEGOA1rXqBQ7z6SvetBqXb-0dd8P3UfU0ylWjrR5CY5KTSg-MJ7bn2HzEbDZKv5-dnM6ZbAU7tNVMdLsGWeYb7ymwoTPxbRZG6GiENe2Gg/file# [following]\n",
            "--2020-10-29 12:26:32--  https://uc71ade91a0824599d9a4665c492.dl.dropboxusercontent.com/cd/0/inline/BCL3FEGOA1rXqBQ7z6SvetBqXb-0dd8P3UfU0ylWjrR5CY5KTSg-MJ7bn2HzEbDZKv5-dnM6ZbAU7tNVMdLsGWeYb7ymwoTPxbRZG6GiENe2Gg/file\n",
            "Resolving uc71ade91a0824599d9a4665c492.dl.dropboxusercontent.com (uc71ade91a0824599d9a4665c492.dl.dropboxusercontent.com)... 162.125.67.15, 2620:100:6021:15::a27d:410f\n",
            "Connecting to uc71ade91a0824599d9a4665c492.dl.dropboxusercontent.com (uc71ade91a0824599d9a4665c492.dl.dropboxusercontent.com)|162.125.67.15|:443... connected.\n",
            "HTTP request sent, awaiting response... 302 Found\n",
            "Location: /cd/0/inline2/BCK0u_vDak4MDYB3IaM2tI2pqf4f8dmGXXXWgI362pN5rmLpHUveM1DFQ6vz5Lq900LvW8Gknztdv_SOWGoJAETgn6ZX3yEEonagOIQqGX7EcDNdJW1DRJusF6rX3t6T3fvJGEhma6uUlSzj_kHup0hTvFr8X2jkkBpVociRp_qsx_ubDotZlgpT0KPi41_5QLJregbL-nDSzVQXo1alExQtKLWnuUJVMt-sbtsCJVuWOlcFIwP1DckVhE5G5tj9H0wcuQ9Potcl7hrZmFBiZMYpvKYpXIgvwyaDQo54DqY_j_eFfIZuCDmcNt5XsHA0L89nmbMCMgtAsCJbbOzk683x/file [following]\n",
            "--2020-10-29 12:26:32--  https://uc71ade91a0824599d9a4665c492.dl.dropboxusercontent.com/cd/0/inline2/BCK0u_vDak4MDYB3IaM2tI2pqf4f8dmGXXXWgI362pN5rmLpHUveM1DFQ6vz5Lq900LvW8Gknztdv_SOWGoJAETgn6ZX3yEEonagOIQqGX7EcDNdJW1DRJusF6rX3t6T3fvJGEhma6uUlSzj_kHup0hTvFr8X2jkkBpVociRp_qsx_ubDotZlgpT0KPi41_5QLJregbL-nDSzVQXo1alExQtKLWnuUJVMt-sbtsCJVuWOlcFIwP1DckVhE5G5tj9H0wcuQ9Potcl7hrZmFBiZMYpvKYpXIgvwyaDQo54DqY_j_eFfIZuCDmcNt5XsHA0L89nmbMCMgtAsCJbbOzk683x/file\n",
            "Reusing existing connection to uc71ade91a0824599d9a4665c492.dl.dropboxusercontent.com:443.\n",
            "HTTP request sent, awaiting response... 200 OK\n",
            "Length: 313639176 (299M) [application/octet-stream]\n",
            "Saving to: ‘VESSEL12_ExampleScans.tar.bz2.1’\n",
            "\n",
            "VESSEL12_ExampleSca 100%[===================>] 299.11M  23.2MB/s    in 15s     \n",
            "\n",
            "2020-10-29 12:26:48 (20.2 MB/s) - ‘VESSEL12_ExampleScans.tar.bz2.1’ saved [313639176/313639176]\n",
            "\n"
          ],
          "name": "stdout"
        }
      ]
    },
    {
      "cell_type": "code",
      "metadata": {
        "id": "zQUlpJhPegK2",
        "outputId": "6085a593-7800-45e2-b785-669543dbc0f5",
        "colab": {
          "base_uri": "https://localhost:8080/"
        }
      },
      "source": [
        "#Unzip samples\n",
        "!tar xf VESSEL12_ExampleScans.tar.bz2"
      ],
      "execution_count": 7,
      "outputs": [
        {
          "output_type": "stream",
          "text": [
            "\n",
            "bzip2: Compressed file ends unexpectedly;\n",
            "\tperhaps it is corrupted?  *Possible* reason follows.\n",
            "bzip2: Inappropriate ioctl for device\n",
            "\tInput file = (stdin), output file = (stdout)\n",
            "\n",
            "It is possible that the compressed file(s) have become corrupted.\n",
            "You can use the -tvv option to test integrity of such files.\n",
            "\n",
            "You can use the `bzip2recover' program to attempt to recover\n",
            "data from undamaged sections of corrupted files.\n",
            "\n",
            "tar: Unexpected EOF in archive\n",
            "tar: Unexpected EOF in archive\n",
            "tar: Error is not recoverable: exiting now\n"
          ],
          "name": "stdout"
        }
      ]
    },
    {
      "cell_type": "code",
      "metadata": {
        "id": "Qpr1HAWnejIR"
      },
      "source": [
        "def read_mhd(file):\n",
        "    return sitk.GetArrayFromImage(sitk.ReadImage(file, sitk.sitkFloat32))"
      ],
      "execution_count": 8,
      "outputs": []
    },
    {
      "cell_type": "code",
      "metadata": {
        "id": "7S4vfmCpelWt",
        "outputId": "36540abc-4cd0-4b32-829f-6a18c91b4b99",
        "colab": {
          "base_uri": "https://localhost:8080/"
        }
      },
      "source": [
        "vessel12_21 = read_mhd(\"Scans/VESSEL12_21.mhd\")\n",
        "vessel12_21.shape"
      ],
      "execution_count": 9,
      "outputs": [
        {
          "output_type": "execute_result",
          "data": {
            "text/plain": [
              "(459, 512, 512)"
            ]
          },
          "metadata": {
            "tags": []
          },
          "execution_count": 9
        }
      ]
    },
    {
      "cell_type": "code",
      "metadata": {
        "id": "kMbmW5D-enkM",
        "outputId": "b6a05de6-1496-433e-8edb-1c4709238348",
        "colab": {
          "base_uri": "https://localhost:8080/"
        }
      },
      "source": [
        "vessel12_21_mask = read_mhd(\"Lungmasks/VESSEL12_21.mhd\")\n",
        "vessel12_21_mask.shape"
      ],
      "execution_count": 10,
      "outputs": [
        {
          "output_type": "execute_result",
          "data": {
            "text/plain": [
              "(459, 512, 512)"
            ]
          },
          "metadata": {
            "tags": []
          },
          "execution_count": 10
        }
      ]
    },
    {
      "cell_type": "code",
      "metadata": {
        "id": "J6wZrxsdep0W"
      },
      "source": [
        "def draw(images, columns=4):\n",
        "    rows = int(np.ceil(images.shape[0] / columns))\n",
        "    max_size = 20\n",
        "    \n",
        "    width = max(columns * 5, max_size)\n",
        "    height = width * rows // columns\n",
        "\n",
        "    plt.figure(figsize=(width, height))\n",
        "    plt.gray()\n",
        "    plt.subplots_adjust(0,0,1,1,0.01,0.01)\n",
        "    for i in range(images.shape[0]):\n",
        "        plt.subplot(rows,columns,i+1), plt.imshow(images[i]), plt.axis('off')\n",
        "        # use plt.savefig(...) here if you want to save the images as .jpg, e.g.,\n",
        "    plt.show()\n",
        "\n",
        "def draw_masked(images, masks, columns=4):\n",
        "    assert images.shape == masks.shape\n",
        "    \n",
        "    rows = int(np.ceil(images.shape[0] / columns))\n",
        "    max_size = 20\n",
        "    \n",
        "    width = min(columns * 5, max_size)\n",
        "    height = width * rows // columns\n",
        "\n",
        "    fig = plt.figure(figsize=(width, height))\n",
        "    plt.gray()\n",
        "    plt.subplots_adjust(0,0,1,1,0.01,0.01)\n",
        "    \n",
        "    X, Y = np.meshgrid(np.arange(masks.shape[1]), np.arange(masks.shape[2]))\n",
        "    \n",
        "    for i in range(images.shape[0]):\n",
        "        ax = fig.add_subplot(rows,columns,i+1)\n",
        "        if masks[i].sum() > 0:\n",
        "            ax.contour(X, Y, masks[i], 1, colors='red', linewidths=0.5)\n",
        "        ax.imshow(images[i], origin='lower', cmap='gray')\n",
        "        plt.axis('off')\n",
        "    \n",
        "    plt.show()"
      ],
      "execution_count": 11,
      "outputs": []
    },
    {
      "cell_type": "code",
      "metadata": {
        "id": "sq2yT5YHer8p"
      },
      "source": [
        "# custom weights initialization\n",
        "def weights_init(m):\n",
        "    classname = m.__class__.__name__\n",
        "    if classname.find('Conv') != -1:\n",
        "        nn.init.normal_(m.weight.data, 0.0, 0.01)\n",
        "    elif classname.find('BatchNorm') != -1:\n",
        "        nn.init.normal_(m.weight.data, 1.0, 0.01)\n",
        "        nn.init.constant_(m.bias.data, 0)"
      ],
      "execution_count": 12,
      "outputs": []
    },
    {
      "cell_type": "code",
      "metadata": {
        "id": "ITK5VjD7ev4t"
      },
      "source": [
        "class Encoder_DSconv(nn.Module):\n",
        "  def __init__(self, in_channels, out_channels, DSkernel, DSstride, DSpadding):\n",
        "    super(Encoder_DSconv, self).__init__()\n",
        "\n",
        "    self.dsconv = nn.Sequential(\n",
        "        #Input is 10, 512, 512\n",
        "\n",
        "        nn.Conv3d(in_channels, in_channels, DSkernel, (1,2,2), DSpadding, groups = in_channels),\n",
        "\n",
        "        nn.BatchNorm3d(in_channels),\n",
        "        nn.ReLU(inplace=True),\n",
        "        nn.Conv3d(in_channels, out_channels, 1 ,DSstride, 0),\n",
        "        nn.BatchNorm3d(out_channels),\n",
        "        nn.ReLU(inplace=True)\n",
        "    )\n",
        "\n",
        "  def forward(self, input):\n",
        "    # print(\"dsconv shape of input:\", input.shape)  \n",
        "    return self.dsconv(input)\n",
        "\n",
        "class DSconv(nn.Module):\n",
        "  def __init__(self, in_channels, out_channels, DSkernel, DSstride, DSpadding, dilation):\n",
        "    super(DSconv, self).__init__()\n",
        "\n",
        "    self.dsconv = nn.Sequential(\n",
        "        #Input is 10, 512, 512\n",
        "\n",
        "        nn.Conv3d(in_channels, in_channels, DSkernel, DSstride, DSpadding, dilation, groups = in_channels),\n",
        "\n",
        "        nn.BatchNorm3d(in_channels),\n",
        "        nn.ReLU(inplace=True),\n",
        "        nn.Conv3d(in_channels, out_channels, 1 ,DSstride, 0, dilation),\n",
        "        nn.BatchNorm3d(out_channels),\n",
        "        nn.ReLU(inplace=True)\n",
        "    )\n",
        "\n",
        "  def forward(self, input):\n",
        "    # print(\"dsconv shape of input:\", input.shape)  \n",
        "    return self.dsconv(input)\n",
        "\n",
        "\n",
        "class DRDB(nn.Module):\n",
        "      def __init__(self, in_channels, DRDBpadding):\n",
        "        super(DRDB, self).__init__()\n",
        "        \n",
        "        DSkernel = 3\n",
        "        DSstride = 1\n",
        "        DSpadding = DRDBpadding\n",
        "        self.conv_1 = DSconv(in_channels, in_channels, 3, DSstride, 1, 1)\n",
        "        self.conv_2 = DSconv(in_channels * 2 , in_channels * 2 , 3, DSstride, 2, 2)\n",
        "        self.conv_3 = DSconv(in_channels * 4, in_channels * 4, 3, DSstride, 3, 3)\n",
        "        self.conv_4 = DSconv(in_channels * 8, in_channels * 8, 3, DSstride, 4, 4)\n",
        "        \n",
        "        self.final_conv = nn.Conv3d(in_channels * 16, in_channels, 1, DSstride, 0,bias=False)\n",
        "\n",
        "      def forward(self, DRDBinput):\n",
        "        first_convolved = self.conv_1(DRDBinput)\n",
        "        # print(first_convolved.shape)\n",
        "        concat = torch.cat([first_convolved, DRDBinput], dim=1)\n",
        "        second_convolved = self.conv_2(concat)\n",
        "        # print(\"Testing\")\n",
        "        # print(second_convolved.shape)\n",
        "        # print(DRDBinput.shape)\n",
        "        concat = torch.cat([second_convolved, concat], dim=1)\n",
        "        third_convolved = self.conv_3(concat)\n",
        "        concat = torch.cat([third_convolved, concat], dim=1)\n",
        "        forth_convolved = self.conv_4(concat)\n",
        "        concat = torch.cat([forth_convolved, concat], dim=1)\n",
        "        xg0 = self.final_conv(concat)\n",
        "        # fff = xg0 + DRDBinput\n",
        "        # print(fff.shape)\n",
        "        return xg0 + DRDBinput\n"
      ],
      "execution_count": 54,
      "outputs": []
    },
    {
      "cell_type": "code",
      "metadata": {
        "id": "ytXb2mA3ewps"
      },
      "source": [
        "test = torch.zeros(size= [1, 17, 10, 512, 512], device = 'cuda:0', dtype = torch.float16)\n",
        "drdb = DRDB(17, 0)\n",
        "drdb = drdb.to('cuda:0').half()"
      ],
      "execution_count": 36,
      "outputs": []
    },
    {
      "cell_type": "code",
      "metadata": {
        "id": "v_-_TQYdezLa",
        "outputId": "e0a57b03-92f5-4fa2-8095-096d3e9c77f9",
        "colab": {
          "base_uri": "https://localhost:8080/"
        }
      },
      "source": [
        "out = drdb(test)\n",
        "out.shape"
      ],
      "execution_count": 37,
      "outputs": [
        {
          "output_type": "stream",
          "text": [
            "dsconv shape of input: torch.Size([1, 17, 10, 512, 512])\n",
            "torch.Size([1, 17, 10, 512, 512])\n",
            "dsconv shape of input: torch.Size([1, 34, 10, 512, 512])\n",
            "Testing\n",
            "torch.Size([1, 34, 10, 512, 512])\n",
            "torch.Size([1, 17, 10, 512, 512])\n",
            "dsconv shape of input: torch.Size([1, 68, 10, 512, 512])\n",
            "dsconv shape of input: torch.Size([1, 136, 10, 512, 512])\n"
          ],
          "name": "stdout"
        },
        {
          "output_type": "execute_result",
          "data": {
            "text/plain": [
              "torch.Size([1, 17, 10, 512, 512])"
            ]
          },
          "metadata": {
            "tags": []
          },
          "execution_count": 37
        }
      ]
    },
    {
      "cell_type": "code",
      "metadata": {
        "id": "HsLOEu-me1u1",
        "outputId": "12a8b182-07de-451e-a4ba-d8176d7b3a53",
        "colab": {
          "base_uri": "https://localhost:8080/"
        }
      },
      "source": [
        "torch.cuda.empty_cache()\n",
        "import gc\n",
        "gc.collect()"
      ],
      "execution_count": 18,
      "outputs": [
        {
          "output_type": "execute_result",
          "data": {
            "text/plain": [
              "863"
            ]
          },
          "metadata": {
            "tags": []
          },
          "execution_count": 18
        }
      ]
    },
    {
      "cell_type": "code",
      "metadata": {
        "id": "3lImBSDoe350"
      },
      "source": [
        "test = torch.zeros(size= [1, 1, 10, 512, 512], device = 'cuda:0', dtype = torch.float16)\n",
        "dsconv = DSconv(1, 16, 3, (1, 2, 2), 0, dilation = 1)\n",
        "dsconv = dsconv.to('cuda:0').half()\n",
        "out = dsconv(test)\n",
        "out.shape"
      ],
      "execution_count": null,
      "outputs": []
    },
    {
      "cell_type": "code",
      "metadata": {
        "id": "HH9A1blAe6eS"
      },
      "source": [
        "class PLSnet(nn.Module):\n",
        "  def __init__(self, DSkernel, DSstride, DSpadding, C):\n",
        "    super(PLSnet, self).__init__()\n",
        "\n",
        "    self.dsconvolve_1 = Encoder_DSconv(1, 16, DSkernel, DSstride, DSpadding)\n",
        "    self.dsconvolve_2 = Encoder_DSconv(17, 64, DSkernel, DSstride, DSpadding)\n",
        "    self.dsconvolve_3 = Encoder_DSconv(65, 128, DSkernel, DSstride, DSpadding)\n",
        "\n",
        "    self.mid_dsconvolve_1 = DSconv(17, 2*C, DSkernel, DSstride, DSpadding, 1)\n",
        "    self.mid_dsconvolve_2 = DSconv(65, 2*C, DSkernel, DSstride, DSpadding, 1)\n",
        "    \n",
        "    self.decoder_dsconvolve_1 = DSconv(129, 2*C, DSkernel, DSstride, DSpadding, 1)\n",
        "    self.decoder_dsconvolve_2 = DSconv(4*C, 2*C, DSkernel, DSstride, DSpadding, 1)\n",
        "    self.decoder_dsconvolve_3 = DSconv(4*C, 2*C, DSkernel, DSstride, DSpadding, 1)\n",
        "\n",
        "    self.oneconv = nn.Conv3d(2*C, C, 1 ,DSstride, DSpadding)\n",
        "\n",
        "    DRDBpadding = DSpadding\n",
        "    self.drdb = DRDB(17, DRDBpadding)\n",
        "    self.drdbx2 = DRDB(65, DRDBpadding)\n",
        "    self.drdbx4 = DRDB(129, DRDBpadding)\n",
        "\n",
        "    self.TLupsample = nn.Upsample(scale_factor=2, mode='trilinear')\n",
        "    self.softmaxAF = nn.Softmax()\n",
        "\n",
        "  def forward(self, InputImage, real_mask):\n",
        "    # resolution = 1 in encoder\n",
        "    DSconv_output = self.dsconvolve_1(InputImage)\n",
        "    # print(\"dsconv: \", DSconv_1.shape)\n",
        "    InputImage = nn.functional.interpolate(InputImage, size=(10,256, 256), mode='trilinear')\n",
        "    # print(\"image: \", InputImage.shape)\n",
        "    concat_output = torch.cat([DSconv_output,InputImage], dim=1)\n",
        "    DRDB1_output = self.drdb(concat_output)\n",
        "    # resolution = 2 in encoder\n",
        "    DSconv_output = self.dsconvolve_2(DRDB1_output)\n",
        "    InputImage = nn.functional.interpolate(InputImage, size=(10,128, 128), mode='trilinear')\n",
        "    concat_output = torch.cat([DSconv_output,InputImage], dim=1)\n",
        "    DRDB2_output = self.drdbx2(self.drdbx2(concat_output))\n",
        "    # resolution = 3 in encoder\n",
        "    DSconv_output = self.dsconvolve_3(DRDB2_output)\n",
        "\n",
        "    InputImage = nn.functional.interpolate(InputImage, size=(10,64, 64), mode = 'trilinear')\n",
        "    concat_output = torch.cat([DSconv_output,InputImage], dim=1)\n",
        "\n",
        "    DSconv_output = self.decoder_dsconvolve_1(self.drdbx4(self.drdbx4(self.drdbx4(self.drdbx4(concat_output)))))\n",
        "    upsample_output = self.TLupsample(DSconv_output) \n",
        "    # resolution = 2 in decoder\n",
        "    DSconv_output = self.mid_dsconvolve_2(DRDB2_output)\n",
        "    concat_output = torch.cat([upsample_output,DSconv_output], dim = 1)\n",
        "    DSconv_output = self.decoder_dsconvolve_2(concat_output)\n",
        "    upsample_output = self.TLupsample(DSconv_output)\n",
        "    # resolution = 1 in decoder\n",
        "    DSconv_output = self.mid_dsconvolve_1(DRDB1_output)\n",
        "    concat_output = torch.cat([upsample_output,DSconv_output], dim = 1)\n",
        "    DSconv_output = self.decoder_dsconvolve_2(concat_output)\n",
        "    upsample_output = self.TLupsample(DSconv_output)\n",
        "    # resolution = 0 in decoder\n",
        "    output = self.oneconv(upsample_output)\n",
        "    predicted = self.softmaxAF(output) \n",
        "    loss = -1 * torch.mean(predicts, real_mask)\n",
        "    return predicted, loss"
      ],
      "execution_count": 58,
      "outputs": []
    },
    {
      "cell_type": "code",
      "metadata": {
        "id": "oXZmo1NHfBHh"
      },
      "source": [
        "# in_channels = 10\n",
        "# out_channels = 256\n",
        "DSkernel = 3\n",
        "DSstride = 1\n",
        "DSpadding = 1\n",
        "# g = 12\n",
        "# g0 = 17\n",
        "C = 6   #number of classes\n",
        "\n",
        "model = PLSnet(DSkernel, DSstride, DSpadding, C)\n",
        "model = model.cuda().half()"
      ],
      "execution_count": 59,
      "outputs": []
    },
    {
      "cell_type": "code",
      "metadata": {
        "id": "7GL82GBPfD8r"
      },
      "source": [
        "optimizer = torch.optim.Adam(filter(\n",
        "    lambda p : p.requires_grad, model.parameters()),\n",
        "    lr = 0.001\n",
        ")"
      ],
      "execution_count": 21,
      "outputs": []
    },
    {
      "cell_type": "code",
      "metadata": {
        "id": "XHXu6wm5fHv3"
      },
      "source": [
        "batch_size = 1\n",
        "batch_x_placeholder = torch.zeros(size= [batch_size, 1, 10, 512, 512], dtype = torch.float16, device = 'cuda:0')\n",
        "batch_y_placeholder = torch.zeros(size= [batch_size, 1, 10, 512, 512], dtype = torch.float16, device = 'cuda:0')\n",
        "\n",
        "x_train = vessel12_21[200:210]\n",
        "y_train = vessel12_21_mask[200:210]\n",
        "\n",
        "epochs = 10"
      ],
      "execution_count": 22,
      "outputs": []
    },
    {
      "cell_type": "code",
      "metadata": {
        "id": "XwnX7cW9fIpP"
      },
      "source": [
        "from time import time"
      ],
      "execution_count": 23,
      "outputs": []
    },
    {
      "cell_type": "code",
      "metadata": {
        "id": "TEDxVzxDfK7F",
        "outputId": "3c81ae24-67bb-47e0-c14c-48df9ef1047f",
        "colab": {
          "base_uri": "https://localhost:8080/",
          "height": 391
        }
      },
      "source": [
        "iters_per_epoch = int(np.ceil(1.0 * len(x_train) / batch_size))\n",
        "\n",
        "for e in range(epochs):\n",
        "    t_start = time()\n",
        "\n",
        "    model.train() # training phase\n",
        "\n",
        "    # shuffling\n",
        "    inds = np.arange(len(x_train))\n",
        "    np.random.shuffle(inds)\n",
        "\n",
        "    epoch_loss = 0\n",
        "    true_positive = 0\n",
        "\n",
        "\n",
        "    # iterating over the whole training set\n",
        "    for iter in range(iters_per_epoch):\n",
        "\n",
        "        batch_inds = inds[iter * batch_size: min(len(inds), (iter + 1) * batch_size)]\n",
        "\n",
        "        # reshaping placeholders\n",
        "        if len(batch_inds) != len(batch_x_placeholder):\n",
        "            batch_x_placeholder.resize_([len(batch_inds), 1, 10, 512, 512])\n",
        "            batch_y_placeholder.resize_([len(batch_inds), 1, 10, 512, 512])\n",
        "\n",
        "        # print(\"HERE\")\n",
        "        # print(y_train.shape)\n",
        "        # print(batch_y_placeholder.shape)\n",
        "        # batch_x_placeholder.copy_(torch.Tensor(x_train[batch_inds, np.newaxis, :, :, :]))\n",
        "        # batch_y_placeholder.copy_(torch.Tensor(y_train[batch_inds, np.newaxis, :, :, :]))\n",
        "\n",
        "        b_decision, b_loss = model(batch_x_placeholder, batch_y_placeholder)\n",
        "        b_decision = b_decision.cpu().numpy()\n",
        "      \n",
        "        epoch_loss += float(b_loss) / iters_per_epoch  # CARE: WE SHOULD USE FLOAT OVER LOSS\n",
        "        true_positive += np.sum(y_train[batch_inds].astype(int) == b_decision)\n",
        "\n",
        "        b_loss.backward() # calculates derivations\n",
        "\n",
        "        optimizer.step()\n",
        "        optimizer.zero_grad() # CARE: MUST DO\n",
        "\n",
        "    epoch_train_accuracy = true_positive * 100.0 / len(x_train)\n",
        "    train_loss[e] = epoch_loss\n",
        "    train_acc[e] = epoch_train_accuracy\n",
        "    \n",
        " # Validating over validation data\n",
        "    with torch.no_grad():\n",
        "        model.eval()  # validation phase\n",
        "\n",
        "        val_inds = np.arange(len(x_val))\n",
        "\n",
        "        val_iters_per_epoch = int(np.ceil(1.0 * len(x_val) / batch_size))\n",
        "\n",
        "        epoch_validation_loss = 0\n",
        "        val_true_positive = 0\n",
        "\n",
        "\n",
        "        # iterating over the whole training set\n",
        "        for iter in range(val_iters_per_epoch):\n",
        "\n",
        "            val_batch_inds = val_inds[iter * batch_size: min(len(val_inds), (iter + 1) * batch_size)]\n",
        "\n",
        "            # reshaping placeholders\n",
        "            if len(batch_inds) != len(batch_x_placeholder):\n",
        "                batch_x_placeholder.resize_([len(batch_inds), 1, 10, 512, 512])\n",
        "                batch_y_placeholder.resize_([len(batch_inds), 1, 10, 512, 512])\n",
        "\n",
        "            # batch_x_placeholder.copy_(torch.Tensor(x_train[batch_inds, np.newaxis, :, :, :]))\n",
        "            # batch_y_placeholder.copy_(torch.Tensor(y_train[batch_inds, np.newaxis, :, :, :]))\n",
        "\n",
        "            b_decision, b_loss = model(batch_x_placeholder, batch_y_placeholder)\n",
        "            b_decision = b_decision.cpu().numpy()\n",
        "        \n",
        "            epoch_validation_loss += float(b_loss) / val_iters_per_epoch  # CARE: WE SHOULD USE FLOAT OVER LOSS\n",
        "            val_true_positive += np.sum(y_val[val_batch_inds].astype(int) == b_decision)\n",
        "                \n",
        "        epoch_validation_accuracy = val_true_positive * 100.0 / len(x_val)\n",
        "        val_loss[e] = epoch_validation_loss\n",
        "        val_acc[e] = epoch_validation_accuracy\n",
        "        # TO Complete\n",
        "    \n",
        "    print(f'Train epoch Loss: {epoch_loss:.4f}, train accuracy: {epoch_train_accuracy:.2f}, Validation Loss: {epoch_validation_loss:.4f}, validation accuracy: {epoch_validation_accuracy:.2f}')\n",
        "\n",
        "    # Saving the model and optimizer state\n",
        "    torch.save({\n",
        "            'epoch': e,\n",
        "            'optimizer_state_dict': optimizer.state_dict(),\n",
        "            'model_state_dict': model.state_dict(),\n",
        "            'train_loss': epoch_loss,\n",
        "            'train_accuracy': epoch_train_accuracy,\n",
        "            'validation_loss': epoch_validation_loss,\n",
        "            'validation_accuracy': epoch_validation_accuracy\n",
        "        }, 'epoch_%d_state.pt' % e)\n",
        "\n",
        "    print('Epoch %d ended in %.2f secs.' % (e, time() - t_start,))\n"
      ],
      "execution_count": 60,
      "outputs": [
        {
          "output_type": "error",
          "ename": "RuntimeError",
          "evalue": "ignored",
          "traceback": [
            "\u001b[0;31m---------------------------------------------------------------------------\u001b[0m",
            "\u001b[0;31mRuntimeError\u001b[0m                              Traceback (most recent call last)",
            "\u001b[0;32m<ipython-input-60-10fb7e40a3db>\u001b[0m in \u001b[0;36m<module>\u001b[0;34m()\u001b[0m\n\u001b[1;32m     30\u001b[0m         \u001b[0;31m# batch_y_placeholder.copy_(torch.Tensor(y_train[batch_inds, np.newaxis, :, :, :]))\u001b[0m\u001b[0;34m\u001b[0m\u001b[0;34m\u001b[0m\u001b[0;34m\u001b[0m\u001b[0m\n\u001b[1;32m     31\u001b[0m \u001b[0;34m\u001b[0m\u001b[0m\n\u001b[0;32m---> 32\u001b[0;31m         \u001b[0mb_decision\u001b[0m\u001b[0;34m,\u001b[0m \u001b[0mb_loss\u001b[0m \u001b[0;34m=\u001b[0m \u001b[0mmodel\u001b[0m\u001b[0;34m(\u001b[0m\u001b[0mbatch_x_placeholder\u001b[0m\u001b[0;34m,\u001b[0m \u001b[0mbatch_y_placeholder\u001b[0m\u001b[0;34m)\u001b[0m\u001b[0;34m\u001b[0m\u001b[0;34m\u001b[0m\u001b[0m\n\u001b[0m\u001b[1;32m     33\u001b[0m         \u001b[0mb_decision\u001b[0m \u001b[0;34m=\u001b[0m \u001b[0mb_decision\u001b[0m\u001b[0;34m.\u001b[0m\u001b[0mcpu\u001b[0m\u001b[0;34m(\u001b[0m\u001b[0;34m)\u001b[0m\u001b[0;34m.\u001b[0m\u001b[0mnumpy\u001b[0m\u001b[0;34m(\u001b[0m\u001b[0;34m)\u001b[0m\u001b[0;34m\u001b[0m\u001b[0;34m\u001b[0m\u001b[0m\n\u001b[1;32m     34\u001b[0m \u001b[0;34m\u001b[0m\u001b[0m\n",
            "\u001b[0;32m/usr/local/lib/python3.6/dist-packages/torch/nn/modules/module.py\u001b[0m in \u001b[0;36m_call_impl\u001b[0;34m(self, *input, **kwargs)\u001b[0m\n\u001b[1;32m    720\u001b[0m             \u001b[0mresult\u001b[0m \u001b[0;34m=\u001b[0m \u001b[0mself\u001b[0m\u001b[0;34m.\u001b[0m\u001b[0m_slow_forward\u001b[0m\u001b[0;34m(\u001b[0m\u001b[0;34m*\u001b[0m\u001b[0minput\u001b[0m\u001b[0;34m,\u001b[0m \u001b[0;34m**\u001b[0m\u001b[0mkwargs\u001b[0m\u001b[0;34m)\u001b[0m\u001b[0;34m\u001b[0m\u001b[0;34m\u001b[0m\u001b[0m\n\u001b[1;32m    721\u001b[0m         \u001b[0;32melse\u001b[0m\u001b[0;34m:\u001b[0m\u001b[0;34m\u001b[0m\u001b[0;34m\u001b[0m\u001b[0m\n\u001b[0;32m--> 722\u001b[0;31m             \u001b[0mresult\u001b[0m \u001b[0;34m=\u001b[0m \u001b[0mself\u001b[0m\u001b[0;34m.\u001b[0m\u001b[0mforward\u001b[0m\u001b[0;34m(\u001b[0m\u001b[0;34m*\u001b[0m\u001b[0minput\u001b[0m\u001b[0;34m,\u001b[0m \u001b[0;34m**\u001b[0m\u001b[0mkwargs\u001b[0m\u001b[0;34m)\u001b[0m\u001b[0;34m\u001b[0m\u001b[0;34m\u001b[0m\u001b[0m\n\u001b[0m\u001b[1;32m    723\u001b[0m         for hook in itertools.chain(\n\u001b[1;32m    724\u001b[0m                 \u001b[0m_global_forward_hooks\u001b[0m\u001b[0;34m.\u001b[0m\u001b[0mvalues\u001b[0m\u001b[0;34m(\u001b[0m\u001b[0;34m)\u001b[0m\u001b[0;34m,\u001b[0m\u001b[0;34m\u001b[0m\u001b[0;34m\u001b[0m\u001b[0m\n",
            "\u001b[0;32m<ipython-input-58-789b361f259c>\u001b[0m in \u001b[0;36mforward\u001b[0;34m(self, InputImage, real_mask)\u001b[0m\n\u001b[1;32m     26\u001b[0m   \u001b[0;32mdef\u001b[0m \u001b[0mforward\u001b[0m\u001b[0;34m(\u001b[0m\u001b[0mself\u001b[0m\u001b[0;34m,\u001b[0m \u001b[0mInputImage\u001b[0m\u001b[0;34m,\u001b[0m \u001b[0mreal_mask\u001b[0m\u001b[0;34m)\u001b[0m\u001b[0;34m:\u001b[0m\u001b[0;34m\u001b[0m\u001b[0;34m\u001b[0m\u001b[0m\n\u001b[1;32m     27\u001b[0m     \u001b[0;31m# resolution = 1 in encoder\u001b[0m\u001b[0;34m\u001b[0m\u001b[0;34m\u001b[0m\u001b[0;34m\u001b[0m\u001b[0m\n\u001b[0;32m---> 28\u001b[0;31m     \u001b[0mDSconv_output\u001b[0m \u001b[0;34m=\u001b[0m \u001b[0mself\u001b[0m\u001b[0;34m.\u001b[0m\u001b[0mdsconvolve_1\u001b[0m\u001b[0;34m(\u001b[0m\u001b[0mInputImage\u001b[0m\u001b[0;34m)\u001b[0m\u001b[0;34m\u001b[0m\u001b[0;34m\u001b[0m\u001b[0m\n\u001b[0m\u001b[1;32m     29\u001b[0m     \u001b[0;31m# print(\"dsconv: \", DSconv_1.shape)\u001b[0m\u001b[0;34m\u001b[0m\u001b[0;34m\u001b[0m\u001b[0;34m\u001b[0m\u001b[0m\n\u001b[1;32m     30\u001b[0m     \u001b[0mInputImage\u001b[0m \u001b[0;34m=\u001b[0m \u001b[0mnn\u001b[0m\u001b[0;34m.\u001b[0m\u001b[0mfunctional\u001b[0m\u001b[0;34m.\u001b[0m\u001b[0minterpolate\u001b[0m\u001b[0;34m(\u001b[0m\u001b[0mInputImage\u001b[0m\u001b[0;34m,\u001b[0m \u001b[0msize\u001b[0m\u001b[0;34m=\u001b[0m\u001b[0;34m(\u001b[0m\u001b[0;36m10\u001b[0m\u001b[0;34m,\u001b[0m\u001b[0;36m256\u001b[0m\u001b[0;34m,\u001b[0m \u001b[0;36m256\u001b[0m\u001b[0;34m)\u001b[0m\u001b[0;34m,\u001b[0m \u001b[0mmode\u001b[0m\u001b[0;34m=\u001b[0m\u001b[0;34m'trilinear'\u001b[0m\u001b[0;34m)\u001b[0m\u001b[0;34m\u001b[0m\u001b[0;34m\u001b[0m\u001b[0m\n",
            "\u001b[0;32m/usr/local/lib/python3.6/dist-packages/torch/nn/modules/module.py\u001b[0m in \u001b[0;36m_call_impl\u001b[0;34m(self, *input, **kwargs)\u001b[0m\n\u001b[1;32m    720\u001b[0m             \u001b[0mresult\u001b[0m \u001b[0;34m=\u001b[0m \u001b[0mself\u001b[0m\u001b[0;34m.\u001b[0m\u001b[0m_slow_forward\u001b[0m\u001b[0;34m(\u001b[0m\u001b[0;34m*\u001b[0m\u001b[0minput\u001b[0m\u001b[0;34m,\u001b[0m \u001b[0;34m**\u001b[0m\u001b[0mkwargs\u001b[0m\u001b[0;34m)\u001b[0m\u001b[0;34m\u001b[0m\u001b[0;34m\u001b[0m\u001b[0m\n\u001b[1;32m    721\u001b[0m         \u001b[0;32melse\u001b[0m\u001b[0;34m:\u001b[0m\u001b[0;34m\u001b[0m\u001b[0;34m\u001b[0m\u001b[0m\n\u001b[0;32m--> 722\u001b[0;31m             \u001b[0mresult\u001b[0m \u001b[0;34m=\u001b[0m \u001b[0mself\u001b[0m\u001b[0;34m.\u001b[0m\u001b[0mforward\u001b[0m\u001b[0;34m(\u001b[0m\u001b[0;34m*\u001b[0m\u001b[0minput\u001b[0m\u001b[0;34m,\u001b[0m \u001b[0;34m**\u001b[0m\u001b[0mkwargs\u001b[0m\u001b[0;34m)\u001b[0m\u001b[0;34m\u001b[0m\u001b[0;34m\u001b[0m\u001b[0m\n\u001b[0m\u001b[1;32m    723\u001b[0m         for hook in itertools.chain(\n\u001b[1;32m    724\u001b[0m                 \u001b[0m_global_forward_hooks\u001b[0m\u001b[0;34m.\u001b[0m\u001b[0mvalues\u001b[0m\u001b[0;34m(\u001b[0m\u001b[0;34m)\u001b[0m\u001b[0;34m,\u001b[0m\u001b[0;34m\u001b[0m\u001b[0;34m\u001b[0m\u001b[0m\n",
            "\u001b[0;32m<ipython-input-54-9fc3bbbb5f55>\u001b[0m in \u001b[0;36mforward\u001b[0;34m(self, input)\u001b[0m\n\u001b[1;32m     17\u001b[0m   \u001b[0;32mdef\u001b[0m \u001b[0mforward\u001b[0m\u001b[0;34m(\u001b[0m\u001b[0mself\u001b[0m\u001b[0;34m,\u001b[0m \u001b[0minput\u001b[0m\u001b[0;34m)\u001b[0m\u001b[0;34m:\u001b[0m\u001b[0;34m\u001b[0m\u001b[0;34m\u001b[0m\u001b[0m\n\u001b[1;32m     18\u001b[0m     \u001b[0;31m# print(\"dsconv shape of input:\", input.shape)\u001b[0m\u001b[0;34m\u001b[0m\u001b[0;34m\u001b[0m\u001b[0;34m\u001b[0m\u001b[0m\n\u001b[0;32m---> 19\u001b[0;31m     \u001b[0;32mreturn\u001b[0m \u001b[0mself\u001b[0m\u001b[0;34m.\u001b[0m\u001b[0mdsconv\u001b[0m\u001b[0;34m(\u001b[0m\u001b[0minput\u001b[0m\u001b[0;34m)\u001b[0m\u001b[0;34m\u001b[0m\u001b[0;34m\u001b[0m\u001b[0m\n\u001b[0m\u001b[1;32m     20\u001b[0m \u001b[0;34m\u001b[0m\u001b[0m\n\u001b[1;32m     21\u001b[0m \u001b[0;32mclass\u001b[0m \u001b[0mDSconv\u001b[0m\u001b[0;34m(\u001b[0m\u001b[0mnn\u001b[0m\u001b[0;34m.\u001b[0m\u001b[0mModule\u001b[0m\u001b[0;34m)\u001b[0m\u001b[0;34m:\u001b[0m\u001b[0;34m\u001b[0m\u001b[0;34m\u001b[0m\u001b[0m\n",
            "\u001b[0;32m/usr/local/lib/python3.6/dist-packages/torch/nn/modules/module.py\u001b[0m in \u001b[0;36m_call_impl\u001b[0;34m(self, *input, **kwargs)\u001b[0m\n\u001b[1;32m    720\u001b[0m             \u001b[0mresult\u001b[0m \u001b[0;34m=\u001b[0m \u001b[0mself\u001b[0m\u001b[0;34m.\u001b[0m\u001b[0m_slow_forward\u001b[0m\u001b[0;34m(\u001b[0m\u001b[0;34m*\u001b[0m\u001b[0minput\u001b[0m\u001b[0;34m,\u001b[0m \u001b[0;34m**\u001b[0m\u001b[0mkwargs\u001b[0m\u001b[0;34m)\u001b[0m\u001b[0;34m\u001b[0m\u001b[0;34m\u001b[0m\u001b[0m\n\u001b[1;32m    721\u001b[0m         \u001b[0;32melse\u001b[0m\u001b[0;34m:\u001b[0m\u001b[0;34m\u001b[0m\u001b[0;34m\u001b[0m\u001b[0m\n\u001b[0;32m--> 722\u001b[0;31m             \u001b[0mresult\u001b[0m \u001b[0;34m=\u001b[0m \u001b[0mself\u001b[0m\u001b[0;34m.\u001b[0m\u001b[0mforward\u001b[0m\u001b[0;34m(\u001b[0m\u001b[0;34m*\u001b[0m\u001b[0minput\u001b[0m\u001b[0;34m,\u001b[0m \u001b[0;34m**\u001b[0m\u001b[0mkwargs\u001b[0m\u001b[0;34m)\u001b[0m\u001b[0;34m\u001b[0m\u001b[0;34m\u001b[0m\u001b[0m\n\u001b[0m\u001b[1;32m    723\u001b[0m         for hook in itertools.chain(\n\u001b[1;32m    724\u001b[0m                 \u001b[0m_global_forward_hooks\u001b[0m\u001b[0;34m.\u001b[0m\u001b[0mvalues\u001b[0m\u001b[0;34m(\u001b[0m\u001b[0;34m)\u001b[0m\u001b[0;34m,\u001b[0m\u001b[0;34m\u001b[0m\u001b[0;34m\u001b[0m\u001b[0m\n",
            "\u001b[0;32m/usr/local/lib/python3.6/dist-packages/torch/nn/modules/container.py\u001b[0m in \u001b[0;36mforward\u001b[0;34m(self, input)\u001b[0m\n\u001b[1;32m    115\u001b[0m     \u001b[0;32mdef\u001b[0m \u001b[0mforward\u001b[0m\u001b[0;34m(\u001b[0m\u001b[0mself\u001b[0m\u001b[0;34m,\u001b[0m \u001b[0minput\u001b[0m\u001b[0;34m)\u001b[0m\u001b[0;34m:\u001b[0m\u001b[0;34m\u001b[0m\u001b[0;34m\u001b[0m\u001b[0m\n\u001b[1;32m    116\u001b[0m         \u001b[0;32mfor\u001b[0m \u001b[0mmodule\u001b[0m \u001b[0;32min\u001b[0m \u001b[0mself\u001b[0m\u001b[0;34m:\u001b[0m\u001b[0;34m\u001b[0m\u001b[0;34m\u001b[0m\u001b[0m\n\u001b[0;32m--> 117\u001b[0;31m             \u001b[0minput\u001b[0m \u001b[0;34m=\u001b[0m \u001b[0mmodule\u001b[0m\u001b[0;34m(\u001b[0m\u001b[0minput\u001b[0m\u001b[0;34m)\u001b[0m\u001b[0;34m\u001b[0m\u001b[0;34m\u001b[0m\u001b[0m\n\u001b[0m\u001b[1;32m    118\u001b[0m         \u001b[0;32mreturn\u001b[0m \u001b[0minput\u001b[0m\u001b[0;34m\u001b[0m\u001b[0;34m\u001b[0m\u001b[0m\n\u001b[1;32m    119\u001b[0m \u001b[0;34m\u001b[0m\u001b[0m\n",
            "\u001b[0;32m/usr/local/lib/python3.6/dist-packages/torch/nn/modules/module.py\u001b[0m in \u001b[0;36m_call_impl\u001b[0;34m(self, *input, **kwargs)\u001b[0m\n\u001b[1;32m    720\u001b[0m             \u001b[0mresult\u001b[0m \u001b[0;34m=\u001b[0m \u001b[0mself\u001b[0m\u001b[0;34m.\u001b[0m\u001b[0m_slow_forward\u001b[0m\u001b[0;34m(\u001b[0m\u001b[0;34m*\u001b[0m\u001b[0minput\u001b[0m\u001b[0;34m,\u001b[0m \u001b[0;34m**\u001b[0m\u001b[0mkwargs\u001b[0m\u001b[0;34m)\u001b[0m\u001b[0;34m\u001b[0m\u001b[0;34m\u001b[0m\u001b[0m\n\u001b[1;32m    721\u001b[0m         \u001b[0;32melse\u001b[0m\u001b[0;34m:\u001b[0m\u001b[0;34m\u001b[0m\u001b[0;34m\u001b[0m\u001b[0m\n\u001b[0;32m--> 722\u001b[0;31m             \u001b[0mresult\u001b[0m \u001b[0;34m=\u001b[0m \u001b[0mself\u001b[0m\u001b[0;34m.\u001b[0m\u001b[0mforward\u001b[0m\u001b[0;34m(\u001b[0m\u001b[0;34m*\u001b[0m\u001b[0minput\u001b[0m\u001b[0;34m,\u001b[0m \u001b[0;34m**\u001b[0m\u001b[0mkwargs\u001b[0m\u001b[0;34m)\u001b[0m\u001b[0;34m\u001b[0m\u001b[0;34m\u001b[0m\u001b[0m\n\u001b[0m\u001b[1;32m    723\u001b[0m         for hook in itertools.chain(\n\u001b[1;32m    724\u001b[0m                 \u001b[0m_global_forward_hooks\u001b[0m\u001b[0;34m.\u001b[0m\u001b[0mvalues\u001b[0m\u001b[0;34m(\u001b[0m\u001b[0;34m)\u001b[0m\u001b[0;34m,\u001b[0m\u001b[0;34m\u001b[0m\u001b[0;34m\u001b[0m\u001b[0m\n",
            "\u001b[0;32m/usr/local/lib/python3.6/dist-packages/torch/nn/modules/conv.py\u001b[0m in \u001b[0;36mforward\u001b[0;34m(self, input)\u001b[0m\n\u001b[1;32m    565\u001b[0m                             self.dilation, self.groups)\n\u001b[1;32m    566\u001b[0m         return F.conv3d(input, self.weight, self.bias, self.stride,\n\u001b[0;32m--> 567\u001b[0;31m                         self.padding, self.dilation, self.groups)\n\u001b[0m\u001b[1;32m    568\u001b[0m \u001b[0;34m\u001b[0m\u001b[0m\n\u001b[1;32m    569\u001b[0m \u001b[0;34m\u001b[0m\u001b[0m\n",
            "\u001b[0;31mRuntimeError\u001b[0m: CUDA out of memory. Tried to allocate 20.00 MiB (GPU 0; 15.90 GiB total capacity; 14.90 GiB already allocated; 7.81 MiB free; 15.12 GiB reserved in total by PyTorch)"
          ]
        }
      ]
    },
    {
      "cell_type": "code",
      "metadata": {
        "id": "D8-CTJz4fNdj"
      },
      "source": [
        "torch.cuda.reset_max_memory_allocated"
      ],
      "execution_count": null,
      "outputs": []
    }
  ]
}