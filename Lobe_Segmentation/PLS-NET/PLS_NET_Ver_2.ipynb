{
  "nbformat": 4,
  "nbformat_minor": 0,
  "metadata": {
    "colab": {
      "name": "PLS-NET-Ver_2.ipynb",
      "provenance": [],
      "authorship_tag": "ABX9TyM9nVEXmgoiRjyiEuNKdtQR",
      "include_colab_link": true
    },
    "kernelspec": {
      "name": "python3",
      "display_name": "Python 3"
    }
  },
  "cells": [
    {
      "cell_type": "markdown",
      "metadata": {
        "id": "view-in-github",
        "colab_type": "text"
      },
      "source": [
        "<a href=\"https://colab.research.google.com/github/AmirHDehghan/AI_MED_Internship/blob/main/Lobe_Segmentation/PLS-NET/PLS_NET_Ver_2.ipynb\" target=\"_parent\"><img src=\"https://colab.research.google.com/assets/colab-badge.svg\" alt=\"Open In Colab\"/></a>"
      ]
    },
    {
      "cell_type": "code",
      "metadata": {
        "id": "Rt2LGmI0ePmv"
      },
      "source": [
        "#  Importing!\n",
        "\n",
        "import torch\n",
        "import torch.nn as nn\n",
        "from torch.autograd import Variable\n",
        "\n",
        "from __future__ import print_function\n",
        "#%matplotlib inline\n",
        "import argparse\n",
        "import os\n",
        "import random\n",
        "import torch.nn.parallel\n",
        "import torch.backends.cudnn as cudnn\n",
        "import torch.optim as optim\n",
        "import torch.utils.data\n",
        "import torchvision.datasets as dset\n",
        "import torchvision.transforms as transforms\n",
        "import torchvision.utils as vutils\n",
        "import numpy as np\n",
        "import matplotlib.pyplot as plt\n",
        "import matplotlib.animation as animation\n",
        "from IPython.display import HTML\n",
        "from PIL import Image\n",
        "from torch.utils.data import Dataset, DataLoader\n",
        "import matplotlib.pylab as plt\n",
        "import nibabel as nib\n",
        "from skimage.transform import resize"
      ],
      "execution_count": null,
      "outputs": []
    },
    {
      "cell_type": "code",
      "metadata": {
        "id": "Ofren4nceaOB"
      },
      "source": [
        "#Requird for reading mhd format\n",
        "!pip install SimpleITK\n",
        "import SimpleITK as sitk"
      ],
      "execution_count": null,
      "outputs": []
    },
    {
      "cell_type": "code",
      "metadata": {
        "id": "0YVOxnbhedtA"
      },
      "source": [
        "#Reading 3 samples from VESSEL12 dataset\n",
        "!wget https://www.dropbox.com/sh/1j2x17k8y18k3l6/AACkAc6bCEqYVXBdODFo6Iqya/VESSEL12_ExampleScans.tar.bz2"
      ],
      "execution_count": null,
      "outputs": []
    },
    {
      "cell_type": "code",
      "metadata": {
        "id": "zQUlpJhPegK2"
      },
      "source": [
        "#Unzip samples\n",
        "!tar xf VESSEL12_ExampleScans.tar.bz2"
      ],
      "execution_count": null,
      "outputs": []
    },
    {
      "cell_type": "code",
      "metadata": {
        "id": "Qpr1HAWnejIR"
      },
      "source": [
        "def read_mhd(file):\n",
        "    return sitk.GetArrayFromImage(sitk.ReadImage(file, sitk.sitkFloat32))"
      ],
      "execution_count": null,
      "outputs": []
    },
    {
      "cell_type": "code",
      "metadata": {
        "id": "7S4vfmCpelWt"
      },
      "source": [
        "vessel12_21 = read_mhd(\"Scans/VESSEL12_21.mhd\")\n",
        "vessel12_21.shape"
      ],
      "execution_count": null,
      "outputs": []
    },
    {
      "cell_type": "code",
      "metadata": {
        "id": "kMbmW5D-enkM"
      },
      "source": [
        "vessel12_21_mask = read_mhd(\"Lungmasks/VESSEL12_21.mhd\")\n",
        "vessel12_21_mask.shape"
      ],
      "execution_count": null,
      "outputs": []
    },
    {
      "cell_type": "code",
      "metadata": {
        "id": "J6wZrxsdep0W"
      },
      "source": [
        "def draw(images, columns=4):\n",
        "    rows = int(np.ceil(images.shape[0] / columns))\n",
        "    max_size = 20\n",
        "    \n",
        "    width = max(columns * 5, max_size)\n",
        "    height = width * rows // columns\n",
        "\n",
        "    plt.figure(figsize=(width, height))\n",
        "    plt.gray()\n",
        "    plt.subplots_adjust(0,0,1,1,0.01,0.01)\n",
        "    for i in range(images.shape[0]):\n",
        "        plt.subplot(rows,columns,i+1), plt.imshow(images[i]), plt.axis('off')\n",
        "        # use plt.savefig(...) here if you want to save the images as .jpg, e.g.,\n",
        "    plt.show()\n",
        "\n",
        "def draw_masked(images, masks, columns=4):\n",
        "    assert images.shape == masks.shape\n",
        "    \n",
        "    rows = int(np.ceil(images.shape[0] / columns))\n",
        "    max_size = 20\n",
        "    \n",
        "    width = min(columns * 5, max_size)\n",
        "    height = width * rows // columns\n",
        "\n",
        "    fig = plt.figure(figsize=(width, height))\n",
        "    plt.gray()\n",
        "    plt.subplots_adjust(0,0,1,1,0.01,0.01)\n",
        "    \n",
        "    X, Y = np.meshgrid(np.arange(masks.shape[1]), np.arange(masks.shape[2]))\n",
        "    \n",
        "    for i in range(images.shape[0]):\n",
        "        ax = fig.add_subplot(rows,columns,i+1)\n",
        "        if masks[i].sum() > 0:\n",
        "            ax.contour(X, Y, masks[i], 1, colors='red', linewidths=0.5)\n",
        "        ax.imshow(images[i], origin='lower', cmap='gray')\n",
        "        plt.axis('off')\n",
        "    \n",
        "    plt.show()"
      ],
      "execution_count": null,
      "outputs": []
    },
    {
      "cell_type": "code",
      "metadata": {
        "id": "sq2yT5YHer8p"
      },
      "source": [
        "# custom weights initialization\n",
        "def weights_init(m):\n",
        "    classname = m.__class__.__name__\n",
        "    if classname.find('Conv') != -1:\n",
        "        nn.init.normal_(m.weight.data, 0.0, 0.01)\n",
        "    elif classname.find('BatchNorm') != -1:\n",
        "        nn.init.normal_(m.weight.data, 1.0, 0.01)\n",
        "        nn.init.constant_(m.bias.data, 0)"
      ],
      "execution_count": null,
      "outputs": []
    },
    {
      "cell_type": "code",
      "metadata": {
        "id": "ITK5VjD7ev4t"
      },
      "source": [
        "class DSconv(nn.Module):\n",
        "  def __init__(self, in_channels, out_channels, DSkernel, DSstride, DSpadding, dilation):\n",
        "    super(DSconv, self).__init__()\n",
        "\n",
        "    self.dsconv = nn.Sequential(\n",
        "        #Input is 10, 512, 512\n",
        "\n",
        "        nn.Conv3d(in_channels, in_channels, DSkernel, DSstride, dilation, groups = in_channels),\n",
        "        #here k is M * N or just M or 1 ?? \n",
        "\n",
        "        #K here is 1\n",
        "        # nn.Conv3d(in_channels, in_channels, DSkernel, DSstride, DSpadding, dilation, groups = in_channels),\n",
        "\n",
        "        nn.BatchNorm3d(in_channels),\n",
        "        nn.ReLU(inplace=True),\n",
        "        nn.Conv3d(in_channels, out_channels, 1 ,DSstride, DSpadding, dilation),\n",
        "        nn.BatchNorm3d(out_channels),\n",
        "        nn.ReLU(inplace=True)\n",
        "    )\n",
        "\n",
        "  def forward(self, input):\n",
        "    print(\"dsconv shape of input:\", input.shape)  \n",
        "    return self.dsconv(input)\n",
        "\n",
        "\n",
        "class DRDB(nn.Module):\n",
        "      def __init__(self, in_channels, DRDBpadding):\n",
        "        super(DRDB, self).__init__()\n",
        "        \n",
        "        DSkernel = 3\n",
        "        DSstride = 1\n",
        "        DSpadding = DRDBpadding\n",
        "        self.conv_1 = DSconv(in_channels, in_channels, 3, DSstride, DRDBpadding, 1)\n",
        "        # when I give dilation = 2, it creates an image of (12 514 514) instead of (10 512 512)\n",
        "        self.conv_2 = DSconv(in_channels * 2 , in_channels * 2 , 3, DSstride, DRDBpadding, 1)\n",
        "        self.conv_3 = DSconv(in_channels * 4, in_channels * 4, 3, DSstride, DRDBpadding, 1)\n",
        "        self.conv_4 = DSconv(in_channels * 8, in_channels * 8, 3, DSstride, DRDBpadding, 1)\n",
        "\n",
        "        self.final_conv = nn.Conv3d(in_channels * 16, in_channels, 1, DSstride, DSpadding)\n",
        "\n",
        "      def forward(self, DRDBinput):\n",
        "        first_convolved = self.conv_1(DRDBinput)\n",
        "        print(first_convolved.shape)\n",
        "        concat = torch.cat([first_convolved, DRDBinput], dim=1)\n",
        "        second_convolved = self.conv_2(concat)\n",
        "        print(\"Testing\")\n",
        "        print(second_convolved.shape)\n",
        "        print(DRDBinput.shape)\n",
        "        concat = torch.cat([second_convolved, concat], dim=1)\n",
        "        third_convolved = self.conv_3(concat)\n",
        "        concat = torch.cat([third_convolved, concat], dim=1)\n",
        "        forth_convolved = self.conv_4(concat)\n",
        "        concat = torch.cat([forth_convolved, concat], dim=1)\n",
        "        xg0 = self.final_conv(concat)\n",
        "        \n",
        "        return xg0 + DRDBinput\n"
      ],
      "execution_count": null,
      "outputs": []
    },
    {
      "cell_type": "code",
      "metadata": {
        "id": "ytXb2mA3ewps"
      },
      "source": [
        "test = torch.zeros(size= [1, 17, 10, 512, 512], device = 'cuda:0', dtype = torch.float16)\n",
        "drdb = DRDB(17, 0)\n",
        "drdb = drdb.to('cuda:0').half()"
      ],
      "execution_count": null,
      "outputs": []
    },
    {
      "cell_type": "code",
      "metadata": {
        "id": "v_-_TQYdezLa"
      },
      "source": [
        "out = drdb(test)\n",
        "out.shape"
      ],
      "execution_count": null,
      "outputs": []
    },
    {
      "cell_type": "code",
      "metadata": {
        "id": "HsLOEu-me1u1"
      },
      "source": [
        "torch.cuda.empty_cache()\n",
        "import gc\n",
        "gc.collect()"
      ],
      "execution_count": null,
      "outputs": []
    },
    {
      "cell_type": "code",
      "metadata": {
        "id": "3lImBSDoe350"
      },
      "source": [
        "test = torch.zeros(size= [1, 1, 10, 512, 512], device = 'cuda:0', dtype = torch.float16)\n",
        "dsconv = DSconv(1, 16, 3, (1, 2, 2), 0, dilation = 1)\n",
        "dsconv = dsconv.to('cuda:0').half()\n",
        "out = dsconv(test)\n",
        "out.shape"
      ],
      "execution_count": null,
      "outputs": []
    },
    {
      "cell_type": "code",
      "metadata": {
        "id": "HH9A1blAe6eS"
      },
      "source": [
        "class PLSnet(nn.Module):\n",
        "  def __init__(self, DSkernel, DSstride, DSpadding, C):\n",
        "    super(PLSnet, self).__init__()\n",
        "\n",
        "    self.dsconvolve_1 = DSconv(1, 16, DSkernel, DSstride, DSpadding, dilation = 1)\n",
        "    self.dsconvolve_2 = DSconv(17, 64, DSkernel, DSstride, DSpadding, 1)\n",
        "    self.dsconvolve_3 = DSconv(65, 128, DSkernel, DSstride, DSpadding, 1)\n",
        "\n",
        "    self.mid_dsconvolve_1 = DSconv(17, 2*C, DSkernel, DSstride, DSpadding,1)\n",
        "    self.mid_dsconvolve_2 = DSconv(65, 2*C, DSkernel, DSstride, DSpadding,1)\n",
        "    \n",
        "    self.decoder_dsconvolve_1 = DSconv(129, 2*C, DSkernel, DSstride, DSpadding,1)\n",
        "    self.decoder_dsconvolve_2 = DSconv(4*C, 2*C, DSkernel, DSstride, DSpadding,1)\n",
        "    self.decoder_dsconvolve_3 = DSconv(4*C, 2*C, DSkernel, DSstride, DSpadding,1)\n",
        "\n",
        "    self.oneconv = nn.Conv3d(2*C, C, 1 ,DSstride, DSpadding)\n",
        "\n",
        "    DRDBpadding = DSpadding\n",
        "    self.drdb = DRDB(17, DRDBpadding)\n",
        "    self.drdbx2 = DRDB(65, DRDBpadding)\n",
        "    self.drdbx4 = DRDB(129, DRDBpadding)\n",
        "\n",
        "    self.TLupsample = nn.Upsample(scale_factor=2, mode='trilinear')\n",
        "    # self.TLdownsample = nn.functional.interpolate(input_image, scale_factor= 1/2, mode='trilinear') # for downscaling the input image in encoder\n",
        "    # self.oneconv = nn.Conv3d(in_channels, out_channels, 1 ,DSstride, DSpadding)\n",
        "    self.softmaxAF = nn.Softmax()\n",
        "\n",
        "  def forward(self, InputImage, real_mask):\n",
        "    # resolution = 1 in encoder\n",
        "    print(InputImage.shape)\n",
        "    DSconv_1 = self.dsconvolve_1(InputImage)\n",
        "    print(DSconv_1.shape)\n",
        "    # InputImage = nn.functional.interpolate(InputImage, scale_factor=1/2, mode='trilinear')\n",
        "    concat_1 = torch.cat([DSconv_1,InputImage], dim=1)\n",
        "    DRDB1_output = self.drdb(concat_1)\n",
        "    # resolution = 2 in encoder\n",
        "    DSconv_2 = self.dsconvolve_2(DRDB1_output)\n",
        "    # InputImage = nn.functional.interpolate(InputImage, scale_factor=1/2, mode='trilinear')\n",
        "    concat_2 = torch.cat([DSconv_2,InputImage], dim=1)\n",
        "    DRDB2_output = self.drdbx2(self.drdbx2(concat_2)) # Don't know, but the paper's architecture has a DRDBx2! and I don't know what's that mean!\n",
        "    # resolution = 3 in encoder\n",
        "    DSconv_3 = self.dsconvolve_3(DRDB2_output)\n",
        "\n",
        "    # InputImage = nn.functional.interpolate(InputImage, scale_factor = 1/2, mode = 'trilinear')\n",
        "    concat_3 = torch.cat([DSconv_3,InputImage], dim=1)\n",
        "\n",
        "    Decoder_DSconv_1 = self.decoder_dsconvolve_1(self.drdbx4(self.drdbx4(self.drdbx4(self.drdbx4(concat_3)))))\n",
        "    upsample1_output = self.TLupsample(DSconv_4) # g3 that got upsample and is placed in decoder\n",
        "    # resolution = 2 in decoder\n",
        "    Mid_dsconv_2 = self.mid_dsconvolve_2(DRDB2_output)\n",
        "    concat_4 = torch.cat([upsample1_output,Mid_dsconv_2], dim = 1)\n",
        "    Decoder_DSconv_2 = self.decoder_dsconvolve_2(concat_4)\n",
        "    upsample2_output = self.TLupsample(DSconv_5)\n",
        "    # resolution = 1 in decoder\n",
        "    Mid_dsconv_1 = self.mid_dsconvolve_1(DRDB1_output)\n",
        "    concat_5 = torch.cat([upsample2_output,Mid_dsconv_1], dim = 1)\n",
        "    Decoder_DSconv_3 = self.decoder_dsconvolve_2(concat_5)\n",
        "    upsample3_output = self.TLupsample(DSconv_6)\n",
        "    # resolution = 0 in decoder\n",
        "    output = self.oneconv(upsample3_output)\n",
        "    predicted = self.softmaxAF(output) \n",
        "    loss = -1 * torch.mean(predicts, real_mask)\n",
        "    return predicted, loss"
      ],
      "execution_count": null,
      "outputs": []
    },
    {
      "cell_type": "code",
      "metadata": {
        "id": "oXZmo1NHfBHh"
      },
      "source": [
        "# in_channels = 10\n",
        "# out_channels = 256\n",
        "DSkernel = 3\n",
        "DSstride = 1\n",
        "DSpadding = 0\n",
        "# g = 12\n",
        "# g0 = 17\n",
        "C = 6   #number of classes\n",
        "\n",
        "model = PLSnet(DSkernel, DSstride, DSpadding, C)\n",
        "model = model.cuda().half()"
      ],
      "execution_count": null,
      "outputs": []
    },
    {
      "cell_type": "code",
      "metadata": {
        "id": "7GL82GBPfD8r"
      },
      "source": [
        "optimizer = torch.optim.Adam(filter(\n",
        "    lambda p : p.requires_grad, model.parameters()),\n",
        "    lr = 0.001\n",
        ")"
      ],
      "execution_count": null,
      "outputs": []
    },
    {
      "cell_type": "code",
      "metadata": {
        "id": "XHXu6wm5fHv3"
      },
      "source": [
        "batch_size = 1\n",
        "batch_x_placeholder = torch.zeros(size= [batch_size, 1, 10, 512, 512], dtype = torch.float16, device = 'cuda:0')\n",
        "batch_y_placeholder = torch.zeros(size= [batch_size, 1, 10, 512, 512], dtype = torch.float16, device = 'cuda:0')\n",
        "\n",
        "x_train = vessel12_21[200:210]\n",
        "y_train = vessel12_21_mask[200:210]\n",
        "\n",
        "epochs = 10"
      ],
      "execution_count": null,
      "outputs": []
    },
    {
      "cell_type": "code",
      "metadata": {
        "id": "XwnX7cW9fIpP"
      },
      "source": [
        "from time import time"
      ],
      "execution_count": null,
      "outputs": []
    },
    {
      "cell_type": "code",
      "metadata": {
        "id": "TEDxVzxDfK7F"
      },
      "source": [
        "iters_per_epoch = int(np.ceil(1.0 * len(x_train) / batch_size))\n",
        "\n",
        "for e in range(epochs):\n",
        "    t_start = time()\n",
        "\n",
        "    model.train() # training phase\n",
        "\n",
        "    # shuffling\n",
        "    inds = np.arange(len(x_train))\n",
        "    np.random.shuffle(inds)\n",
        "\n",
        "    epoch_loss = 0\n",
        "    true_positive = 0\n",
        "\n",
        "\n",
        "    # iterating over the whole training set\n",
        "    for iter in range(iters_per_epoch):\n",
        "\n",
        "        batch_inds = inds[iter * batch_size: min(len(inds), (iter + 1) * batch_size)]\n",
        "\n",
        "        # reshaping placeholders\n",
        "        if len(batch_inds) != len(batch_x_placeholder):\n",
        "            batch_x_placeholder.resize_([len(batch_inds), 1, 10, 512, 512])\n",
        "            batch_y_placeholder.resize_([len(batch_inds), 1, 10, 512, 512])\n",
        "\n",
        "        # print(\"HERE\")\n",
        "        # print(y_train.shape)\n",
        "        # print(batch_y_placeholder.shape)\n",
        "        # batch_x_placeholder.copy_(torch.Tensor(x_train[batch_inds, np.newaxis, :, :, :]))\n",
        "        # batch_y_placeholder.copy_(torch.Tensor(y_train[batch_inds, np.newaxis, :, :, :]))\n",
        "\n",
        "        b_decision, b_loss = model(batch_x_placeholder, batch_y_placeholder)\n",
        "        b_decision = b_decision.cpu().numpy()\n",
        "      \n",
        "        epoch_loss += float(b_loss) / iters_per_epoch  # CARE: WE SHOULD USE FLOAT OVER LOSS\n",
        "        true_positive += np.sum(y_train[batch_inds].astype(int) == b_decision)\n",
        "\n",
        "        b_loss.backward() # calculates derivations\n",
        "\n",
        "        optimizer.step()\n",
        "        optimizer.zero_grad() # CARE: MUST DO\n",
        "\n",
        "    epoch_train_accuracy = true_positive * 100.0 / len(x_train)\n",
        "    train_loss[e] = epoch_loss\n",
        "    train_acc[e] = epoch_train_accuracy\n",
        "    \n",
        " # Validating over validation data\n",
        "    with torch.no_grad():\n",
        "        model.eval()  # validation phase\n",
        "\n",
        "        val_inds = np.arange(len(x_val))\n",
        "\n",
        "        val_iters_per_epoch = int(np.ceil(1.0 * len(x_val) / batch_size))\n",
        "\n",
        "        epoch_validation_loss = 0\n",
        "        val_true_positive = 0\n",
        "\n",
        "\n",
        "        # iterating over the whole training set\n",
        "        for iter in range(val_iters_per_epoch):\n",
        "\n",
        "            val_batch_inds = val_inds[iter * batch_size: min(len(val_inds), (iter + 1) * batch_size)]\n",
        "\n",
        "            # reshaping placeholders\n",
        "            if len(batch_inds) != len(batch_x_placeholder):\n",
        "                batch_x_placeholder.resize_([len(batch_inds), 1, 10, 512, 512])\n",
        "                batch_y_placeholder.resize_([len(batch_inds), 1, 10, 512, 512])\n",
        "\n",
        "            # batch_x_placeholder.copy_(torch.Tensor(x_train[batch_inds, np.newaxis, :, :, :]))\n",
        "            # batch_y_placeholder.copy_(torch.Tensor(y_train[batch_inds, np.newaxis, :, :, :]))\n",
        "\n",
        "            b_decision, b_loss = model(batch_x_placeholder, batch_y_placeholder)\n",
        "            b_decision = b_decision.cpu().numpy()\n",
        "        \n",
        "            epoch_validation_loss += float(b_loss) / val_iters_per_epoch  # CARE: WE SHOULD USE FLOAT OVER LOSS\n",
        "            val_true_positive += np.sum(y_val[val_batch_inds].astype(int) == b_decision)\n",
        "                \n",
        "        epoch_validation_accuracy = val_true_positive * 100.0 / len(x_val)\n",
        "        val_loss[e] = epoch_validation_loss\n",
        "        val_acc[e] = epoch_validation_accuracy\n",
        "        # TO Complete\n",
        "    \n",
        "    print(f'Train epoch Loss: {epoch_loss:.4f}, train accuracy: {epoch_train_accuracy:.2f}, Validation Loss: {epoch_validation_loss:.4f}, validation accuracy: {epoch_validation_accuracy:.2f}')\n",
        "\n",
        "    # Saving the model and optimizer state\n",
        "    torch.save({\n",
        "            'epoch': e,\n",
        "            'optimizer_state_dict': optimizer.state_dict(),\n",
        "            'model_state_dict': model.state_dict(),\n",
        "            'train_loss': epoch_loss,\n",
        "            'train_accuracy': epoch_train_accuracy,\n",
        "            'validation_loss': epoch_validation_loss,\n",
        "            'validation_accuracy': epoch_validation_accuracy\n",
        "        }, 'epoch_%d_state.pt' % e)\n",
        "\n",
        "    print('Epoch %d ended in %.2f secs.' % (e, time() - t_start,))\n"
      ],
      "execution_count": null,
      "outputs": []
    },
    {
      "cell_type": "code",
      "metadata": {
        "id": "D8-CTJz4fNdj"
      },
      "source": [
        "torch.cuda.reset_max_memory_allocated"
      ],
      "execution_count": null,
      "outputs": []
    }
  ]
}